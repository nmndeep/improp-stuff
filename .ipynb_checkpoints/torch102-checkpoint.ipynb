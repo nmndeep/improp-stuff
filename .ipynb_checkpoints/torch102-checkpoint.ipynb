{
 "cells": [
  {
   "cell_type": "code",
   "execution_count": null,
   "metadata": {},
   "outputs": [],
   "source": [
    "import torch.nn as nn\n",
    "import torch\n",
    "import torch.optim as optim\n",
    "import numpy as np\n",
    "import torchvision\n",
    "import matplotlib.pyplot as plt"
   ]
  },
  {
   "cell_type": "code",
   "execution_count": null,
   "metadata": {},
   "outputs": [],
   "source": [
    "#  Load from numpy arrays\n",
    "X = np.array([[2,3],[5,6],[8,12]])\n",
    "\n",
    "y = torch.from_numpy(X)\n",
    "z = y.numpy()"
   ]
  },
  {
   "cell_type": "code",
   "execution_count": null,
   "metadata": {},
   "outputs": [],
   "source": [
    "train_data = torchvision.datasets.CIFAR10(root='../datasets/', train = True,\n",
    "                                        transform=torchvision.transforms.ToTensor(),download = True)"
   ]
  },
  {
   "cell_type": "code",
   "execution_count": null,
   "metadata": {},
   "outputs": [],
   "source": [
    "image, label = train_data[0]\n",
    "\n",
    "train_loader = torch.utils.data.DataLoader(dataset = train_data,\n",
    "                                           batch_size = 64, shuffle = True)\n",
    "data_iter = iter(train_loader)  ####   itreate over the dataset in batches\n",
    "images, labels = data_iter.next()  #### batch images and labels created\n",
    "\n",
    "# Or use this \n",
    "for img, label in train_loader:\n",
    "    # Do your thing\n",
    "    pass"
   ]
  },
  {
   "cell_type": "code",
   "execution_count": null,
   "metadata": {},
   "outputs": [],
   "source": [
    "# For custom dataset.\n",
    "class CustomDataset(torch.utils.data.Dataset):\n",
    "    def __init__(self):\n",
    "        # Initialize file paths or a list of file names. \n",
    "        pass\n",
    "    def __getitem__(self, index):\n",
    "        # 1. Read one data from file (e.g. using numpy.fromfile, PIL.Image.open).\n",
    "        # 2. Preprocess the data (e.g. torchvision.Transform).\n",
    "        # 3. Return a data pair (e.g. image and label).\n",
    "        pass\n",
    "    def __len__(self):\n",
    "        # You should change 0 to the total size of your dataset.\n",
    "        return 0 \n",
    "\n",
    "# then use the prebuilt data loader. \n",
    "custom_dataset = CustomDataset()\n",
    "train_loader = torch.utils.data.DataLoader(dataset=custom_dataset,\n",
    "                                           batch_size=16, shuffle=True)"
   ]
  },
  {
   "cell_type": "code",
   "execution_count": null,
   "metadata": {},
   "outputs": [],
   "source": [
    "# Loading and saving models\n",
    "torch.save(name_net, 'model.ckpt')\n",
    "model = torch.load('model.ckpt')\n",
    "# load and save the parameters\n",
    "\n",
    "torch.save(name_net.state_dict(), 'params.ckpt')\n",
    "name_net.load_state_dict(torch.load('params.ckpt'))\n"
   ]
  },
  {
   "cell_type": "markdown",
   "metadata": {},
   "source": [
    "#### Linear regression"
   ]
  },
  {
   "cell_type": "code",
   "execution_count": null,
   "metadata": {},
   "outputs": [],
   "source": [
    "X_train = np.random.uniform(low=2.5, high=18.3, size=(500,1)).astype(np.float32)\n",
    "\n",
    "y_train = np.random.uniform(low= 1.5, high = 5.8, size = (500,1)).astype(np.float32)"
   ]
  },
  {
   "cell_type": "code",
   "execution_count": null,
   "metadata": {},
   "outputs": [],
   "source": [
    "model = nn.Linear(1,1)  ### linear model with input size 1 and output size 1\n",
    "loss = nn.MSELoss()\n",
    "optimizer = optim.SGD(model.parameters(), lr = 0.002)"
   ]
  },
  {
   "cell_type": "code",
   "execution_count": null,
   "metadata": {},
   "outputs": [],
   "source": [
    "n_eopchs = 50\n",
    "for i in range(n_eopchs):\n",
    "    inputs = torch.from_numpy(X_train)\n",
    "    labels = torch.from_numpy(y_train)\n",
    "    pred = model(inputs)\n",
    "    loss_val = loss(pred, labels)\n",
    "    optimizer.zero_grad()  ## Torch accumulates gradients hence this is required\n",
    "    loss_val.backward() \n",
    "    optimizer.step()\n",
    "    if (i+1)%5==0:\n",
    "        print('Epoch [{}/{}] Loss----->  {:.4f}'.format(i+1, n_eopchs, loss_val.item()))"
   ]
  },
  {
   "cell_type": "code",
   "execution_count": null,
   "metadata": {},
   "outputs": [],
   "source": [
    "###    Graph plotted\n",
    "pred = model(torch.from_numpy(X_train)).detach().numpy()\n",
    "plt.plot(X_train, y_train, 'ro', label= 'Data')\n",
    "plt.plot(X_train, pred, label = 'Line Fitting')\n",
    "plt.legend()\n",
    "plt.show()\n",
    "torch.save(model.state_dict(), '../datasets/models/..')  ##   Saving the model\n",
    "model.load_state_dict(torch.load('../datasets/models/..'))  ## loading the model\n"
   ]
  }
 ],
 "metadata": {
  "kernelspec": {
   "display_name": "Python 3",
   "language": "python",
   "name": "python3"
  },
  "language_info": {
   "codemirror_mode": {
    "name": "ipython",
    "version": 3
   },
   "file_extension": ".py",
   "mimetype": "text/x-python",
   "name": "python",
   "nbconvert_exporter": "python",
   "pygments_lexer": "ipython3",
   "version": "3.5.6"
  }
 },
 "nbformat": 4,
 "nbformat_minor": 2
}
