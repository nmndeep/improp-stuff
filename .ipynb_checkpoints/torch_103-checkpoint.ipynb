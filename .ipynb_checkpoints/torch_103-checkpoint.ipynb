{
 "cells": [
  {
   "cell_type": "code",
   "execution_count": null,
   "metadata": {},
   "outputs": [],
   "source": [
    "###############     FULLY CONNECTED DEEP NETWORK\n",
    "import torch\n",
    "import torch.nn as nn\n",
    "import torchvisiontorchvision.transforms"
   ]
  },
  {
   "cell_type": "code",
   "execution_count": null,
   "metadata": {},
   "outputs": [],
   "source": [
    "device = torch.device('cuda' if torch.cuda.is_available() else 'cpu')\n",
    "input_size = 784  #####   For Mnist\n"
   ]
  },
  {
   "cell_type": "code",
   "execution_count": null,
   "metadata": {},
   "outputs": [],
   "source": [
    "# Download data, if not already at  '\\root' location\n",
    "\n",
    "train_dataset = torchvision.datasets.MNIST(root='../datasets/', train = True,\n",
    "                                          transform=torchvision.transforms.ToTensor(),\n",
    "                                          download = True)\n",
    "test_dataset = torchvision.datasets.MNIST(root='../datasets/', train = False,\n",
    "                                          transform=torchvision.transforms.ToTensor(),\n",
    "                                          download = True)\n",
    "#  Create iterators\n",
    "\n",
    "train_loader = torch.utils.data.DataLoader(dataset = train_dataset, batch_size=32,\n",
    "                                          shuffle = True)\n",
    "test_loader = torch.utils.data.DataLoader(dataset = test_dataset, batch_size=32,\n",
    "                                          shuffle = False)\n"
   ]
  },
  {
   "cell_type": "code",
   "execution_count": null,
   "metadata": {},
   "outputs": [],
   "source": [
    "num_classes = 10\n",
    "n_epochs = 25\n",
    "steps = len(train_loader)\n",
    "hidden = 500    #######    for 1 hidden layer\n",
    "class Net(nn.Module):\n",
    "    \n",
    "    def __init__(self, input_size, hidden, num_classes):\n",
    "        super(Net,self).__init__()\n",
    "        self.fc1 = nn.Linear(input_size, hidden)\n",
    "        self.relu = nn.ReLU()\n",
    "        self.fc2 = nn.Linear(hidden,num_classes)\n",
    "        \n",
    "    def forward(self, x):\n",
    "        out = self.fc1(x)\n",
    "        out = self.relu(out)\n",
    "        out = self.fc2(out)\n",
    "        return out\n",
    "\n",
    "model = Net(input_size, hidden, num_classes).to(device)\n",
    "loss = nn.CrossEntropyLoss()\n",
    "optimizer = torch.optim.SGD(model.parameters(), lr = 0.01)\n",
    "\n",
    "for e in range(n_epochs):\n",
    "    for i, (images, labels) in enumerate(train_loader):\n",
    "        images  = images.reshape(-1,784).to(device)\n",
    "        labels = labels.to(device)\n",
    "        \n",
    "        outputs = model(images)\n",
    "        loss_val = loss(outputs, labels)\n",
    "        optimizer.zero_grad()\n",
    "        loss_val.backward()\n",
    "        optimizer.step()\n",
    "        \n",
    "        if (e+1)%5==0:\n",
    "            print('Epoch [{}/{}], step [{}/{}], loss-----> {:.3f}'.format(\n",
    "                e+1,n_epochs, i, steps, loss_val.item()))\n",
    "        \n",
    "        "
   ]
  },
  {
   "cell_type": "code",
   "execution_count": null,
   "metadata": {},
   "outputs": [],
   "source": [
    "with torch.no_grad():\n",
    "    right = 0\n",
    "    total = 0\n",
    "    for images, labels in test_loader:\n",
    "        images  = images.reshape(-1,784).to(device)\n",
    "        labels = labels.to(device)\n",
    "        \n",
    "        outputs = model(images)\n",
    "        _, pred = torch.max(outputs.data, 1)\n",
    "        total+= labels.size(0)\n",
    "        right+=(pred==labels).sum().item()\n",
    "    print('Test Accuracy  .....> {:.3f}'.format(100*right/total))\n",
    "\n",
    "    torch.save(model.state_dict(), '../datasets/models/torch103.ckpt')\n",
    "        "
   ]
  },
  {
   "cell_type": "code",
   "execution_count": null,
   "metadata": {},
   "outputs": [],
   "source": []
  }
 ],
 "metadata": {
  "kernelspec": {
   "display_name": "Python 3",
   "language": "python",
   "name": "python3"
  },
  "language_info": {
   "codemirror_mode": {
    "name": "ipython",
    "version": 3
   },
   "file_extension": ".py",
   "mimetype": "text/x-python",
   "name": "python",
   "nbconvert_exporter": "python",
   "pygments_lexer": "ipython3",
   "version": "3.5.6"
  }
 },
 "nbformat": 4,
 "nbformat_minor": 2
}
