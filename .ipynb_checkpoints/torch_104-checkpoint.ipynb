{
 "cells": [
  {
   "cell_type": "code",
   "execution_count": null,
   "metadata": {},
   "outputs": [],
   "source": [
    "# CNN on MNIST\n",
    "\n",
    "import torch \n",
    "import torch.nn as nn\n",
    "import torch.optim as optimizer\n",
    "import torchvision\n",
    "import numpy as np"
   ]
  },
  {
   "cell_type": "code",
   "execution_count": null,
   "metadata": {},
   "outputs": [],
   "source": [
    "device = torch.device('cuda' if torch.cuda.is_available() else 'cpu')\n",
    "train_dataset = torchvision.datasets.MNIST(root='../datasets/', train=True,\n",
    "                                          transform = torchvision.transforms.ToTensor(),\n",
    "                                          download = False)\n",
    "test_dataset = torchvision.datasets.MNIST(root='../datasets/', train=False,\n",
    "                                          transform = torchvision.transforms.ToTensor())\n",
    "\n",
    "train_loader = torch.utils.data.DataLoader(dataset=train_dataset, batch_size=64,\n",
    "                                          shuffle =True)\n",
    "test_loader = torch.utils.data.DataLoader(dataset=test_dataset, batch_size=64,\n",
    "                                          shuffle =False)\n"
   ]
  },
  {
   "cell_type": "code",
   "execution_count": null,
   "metadata": {},
   "outputs": [],
   "source": [
    "num_classes = 10\n",
    "l_rate = 0.01\n",
    "class Convolution(nn.Module):\n",
    "    def __init__(self, num_classes=10):\n",
    "        super(Convolution, self).__init__()\n",
    "        \n",
    "        self.layer1 = nn.Sequential(\n",
    "        nn.Conv2d(1, 16, kernel_size=5, stride=1, padding=2),\n",
    "            nn.BatchNorm2d(16),\n",
    "            nn.ReLU(),\n",
    "            nn.MaxPool2d(kernel_size=2, stride=2) )\n",
    "        \n",
    "        self.layer2 = nn.Sequential(\n",
    "        nn.Conv2d(16, 32, kernel_size=5, stride=1, padding=2),\n",
    "        nn.BatchNorm2d(32),\n",
    "        nn.ReLU(),\n",
    "        nn.Dropout(),\n",
    "        nn.MaxPool2d(kernel_size=2, stride=2)    )\n",
    "        \n",
    "        self.fc = nn.Linear(7*7*32, num_classes)\n",
    "        \n",
    "    def forward(self, x):\n",
    "        out = self.layer1(x)\n",
    "        out = self.layer2(out)\n",
    "        out = out.reshape(out.size(0), -1)\n",
    "        out = self.fc(out)\n",
    "        return out    "
   ]
  },
  {
   "cell_type": "code",
   "execution_count": null,
   "metadata": {},
   "outputs": [],
   "source": [
    "model = Convolution(num_classes).to(device)"
   ]
  },
  {
   "cell_type": "code",
   "execution_count": null,
   "metadata": {},
   "outputs": [],
   "source": [
    "loss = nn.CrossEntropyLoss()\n",
    "optimiz = optimizer.SGD(model.parameters(), lr=l_rate)"
   ]
  },
  {
   "cell_type": "code",
   "execution_count": null,
   "metadata": {
    "scrolled": true
   },
   "outputs": [],
   "source": [
    "steps = len(train_loader)\n",
    "n_epochs = 2\n",
    "for e in range(n_epochs):\n",
    "    for i, (images, labels) in enumerate(train_loader):\n",
    "        images = images.to(device)\n",
    "        labels = labels.to(device)\n",
    "        \n",
    "        outputs = model(images)\n",
    "        loss_val = loss(outputs, labels)\n",
    "        \n",
    "        optimiz.zero_grad()\n",
    "        loss_val.backward()\n",
    "        optimiz.step()\n",
    "        if (i+1)%5==0:\n",
    "            print('Epoch [{}/{}], step [{}/{}], loss ------> {:.3f}'\n",
    "                  .format(e+1, n_epochs, i, steps, loss_val.item()))\n"
   ]
  },
  {
   "cell_type": "code",
   "execution_count": null,
   "metadata": {},
   "outputs": [],
   "source": [
    "model.eval()     ##########      To let batchnorm know, it is test mode\n",
    "with torch.no_grad():\n",
    "    tot = 0\n",
    "    corr = 0\n",
    "    for images, labels in test_loader:\n",
    "        images = images.to(device)\n",
    "        labels = labels.to(device)\n",
    "        output = model(images)\n",
    "        _, pred = torch.max(output.data, 1)\n",
    "        tot+=labels.size(0)\n",
    "        corr+=(pred==labels).sum().item()\n",
    "    print('Test Accuracy of the model on test images: {} %'.\n",
    "           format(100 * corr / tot))\n",
    "\n",
    "torch.save(model.state_dict(), '../datasets/models/torch104.ckpt')"
   ]
  },
  {
   "cell_type": "code",
   "execution_count": null,
   "metadata": {},
   "outputs": [],
   "source": []
  }
 ],
 "metadata": {
  "kernelspec": {
   "display_name": "Python 3",
   "language": "python",
   "name": "python3"
  },
  "language_info": {
   "codemirror_mode": {
    "name": "ipython",
    "version": 3
   },
   "file_extension": ".py",
   "mimetype": "text/x-python",
   "name": "python",
   "nbconvert_exporter": "python",
   "pygments_lexer": "ipython3",
   "version": "3.5.6"
  }
 },
 "nbformat": 4,
 "nbformat_minor": 2
}
