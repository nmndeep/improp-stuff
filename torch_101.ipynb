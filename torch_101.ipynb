{
 "cells": [
  {
   "cell_type": "code",
   "execution_count": null,
   "metadata": {},
   "outputs": [],
   "source": [
    "import torch\n",
    "import torch.nn as nn\n",
    "import torch.autograd as autograd\n",
    "import torch.optim\n",
    "import numpy as np\n",
    "from torch.autograd import Variable\n",
    "import torchvision.datasets as datasets"
   ]
  },
  {
   "cell_type": "code",
   "execution_count": null,
   "metadata": {},
   "outputs": [],
   "source": [
    "## tensors\n",
    "X = torch.tensor(1., requires_grad=True)\n",
    "w = torch.tensor(2., requires_grad=True)\n",
    "b = torch.tensor(3., requires_grad=True)"
   ]
  },
  {
   "cell_type": "code",
   "execution_count": null,
   "metadata": {},
   "outputs": [],
   "source": [
    "##  function y = wx+b\n",
    "y = w*X + b\n",
    "y.backward()\n",
    "print(X.grad)\n",
    "print(w.grad)\n",
    "print(b.grad)"
   ]
  },
  {
   "cell_type": "code",
   "execution_count": null,
   "metadata": {},
   "outputs": [],
   "source": [
    "X = torch.randn(10, 3)\n",
    "y = torch.randn(10, 2)\n",
    "linear = nn.Linear(3, 2)\n",
    "'''Can directly print to check values unlike tensorflow. \n",
    "weights and biases are initialised on defining linear.'''\n",
    "# print(\"weights\", linear.weight)\n",
    "# print(\"Biases\", linear.bias)\n",
    "        # Loss and optimization\n",
    "loss = nn.MSELoss()\n",
    "optimizer = torch.optim.SGD(linear.parameters(), lr=0.005)\n",
    "\n",
    "pred = linear(X)\n",
    "loss_val = loss(pred, y)\n",
    "# Can print loss normally.\n",
    "print(\"Loss-------------> \", loss_val.item())\n",
    "\n",
    "loss_val.backward()\n",
    "print(\"Weight gradient ------->\", linear.weight.grad)\n",
    "print(\"Bias gradient ------->\", linear.bias.grad)\n"
   ]
  },
  {
   "cell_type": "code",
   "execution_count": null,
   "metadata": {},
   "outputs": [],
   "source": [
    "i = 0\n",
    "while loss_val.item()>1.2:\n",
    "    i+=1\n",
    "    optimizer.step()\n",
    "    pred = linear(X)\n",
    "    loss_val = loss(pred, y)\n",
    "    print(\"Loss after\", i, \"step of GD -->\", loss_val.item())"
   ]
  },
  {
   "cell_type": "code",
   "execution_count": null,
   "metadata": {},
   "outputs": [],
   "source": []
  }
 ],
 "metadata": {
  "kernelspec": {
   "display_name": "Python 3",
   "language": "python",
   "name": "python3"
  },
  "language_info": {
   "codemirror_mode": {
    "name": "ipython",
    "version": 3
   },
   "file_extension": ".py",
   "mimetype": "text/x-python",
   "name": "python",
   "nbconvert_exporter": "python",
   "pygments_lexer": "ipython3",
   "version": "3.5.6"
  }
 },
 "nbformat": 4,
 "nbformat_minor": 2
}
