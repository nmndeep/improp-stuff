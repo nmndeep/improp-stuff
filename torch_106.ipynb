{
 "cells": [
  {
   "cell_type": "code",
   "execution_count": 2,
   "metadata": {},
   "outputs": [],
   "source": [
    "import torch\n",
    "import torch.nn as nn\n",
    "import torch.nn.functional as F\n",
    "import torchvision"
   ]
  },
  {
   "cell_type": "code",
   "execution_count": 6,
   "metadata": {},
   "outputs": [],
   "source": [
    "device = torch.device('cuda' if torch.cuda.is_available() else 'cpu')\n",
    "image_size = 784\n",
    "n_dim = 400\n",
    "z_dim = 20\n",
    "bs = 32\n",
    "lr_rate = 0.002"
   ]
  },
  {
   "cell_type": "code",
   "execution_count": 7,
   "metadata": {},
   "outputs": [],
   "source": [
    "data = torchvision.datasets.MNIST(root = '../datasets/',\n",
    "                                    train=True,\n",
    "                                     transform = torchvision.transforms.ToTensor(),\n",
    "                                    download = True)\n",
    "data_loader = torch.utils.data.DataLoader(dataset=data, batch_size=bs, shuffle = True)"
   ]
  },
  {
   "cell_type": "code",
   "execution_count": null,
   "metadata": {},
   "outputs": [],
   "source": [
    "class VAE(nn.Module):\n",
    "    def __init__(self, image_size=784, h_dim=400,z_dim=20):\n",
    "        super(VAE, self).__init__()\n",
    "        self.fc1 = nn.Linear(image_size, h_dim)\n",
    "        self.fc2 = nn.Linear(h_dim, z_dim)\n",
    "        self.fc3 = nn.Linear(h_dim, z_dim)\n",
    "        self.fc4 = nn.Linear(z_dim, h_dim)\n",
    "        self.fc2 = nn.Linear(h_dim, image_size)\n",
    "        \n",
    "    def encode(self, x):\n",
    "        out = F.relu(self.fc1(x))\n",
    "        return self.fc2(out), self.fc3(out)\n",
    "    \n",
    "    def repara(self, mu, var):\n",
    "        st_dev = torch.exp(var/2)\n",
    "        eps = torch.randn_like(st_dev)\n",
    "        return mu+eps*st_dev\n",
    "    \n",
    "    def decode(self, x):\n",
    "        out = F.relu(self.fc4(x))\n",
    "        out = F.sigmoid(self.fc5(out))\n",
    "        return out\n",
    "    \n",
    "    def forward(self, x):\n",
    "        mu, var = self.encode(x)\n",
    "        z = self.repara(mu, var)\n",
    "        recont = self.decode(z)\n",
    "        return recont, mu, var\n",
    "    \n",
    "        "
   ]
  }
 ],
 "metadata": {
  "kernelspec": {
   "display_name": "Python 3",
   "language": "python",
   "name": "python3"
  },
  "language_info": {
   "codemirror_mode": {
    "name": "ipython",
    "version": 3
   },
   "file_extension": ".py",
   "mimetype": "text/x-python",
   "name": "python",
   "nbconvert_exporter": "python",
   "pygments_lexer": "ipython3",
   "version": "3.5.6"
  }
 },
 "nbformat": 4,
 "nbformat_minor": 2
}
