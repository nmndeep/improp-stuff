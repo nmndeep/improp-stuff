{
 "cells": [
  {
   "cell_type": "code",
   "execution_count": 2,
   "metadata": {},
   "outputs": [],
   "source": [
    "###   Siamese network example\n",
    "import torch\n",
    "import torch.functional as F\n",
    "import torch.nn as nn\n",
    "import torchvision\n",
    "import numpy as np"
   ]
  },
  {
   "cell_type": "code",
   "execution_count": 3,
   "metadata": {},
   "outputs": [],
   "source": [
    "device = torch.device('cuda' if torch.cuda.is_available() else 'cpu')"
   ]
  },
  {
   "cell_type": "code",
   "execution_count": 5,
   "metadata": {},
   "outputs": [
    {
     "name": "stdout",
     "output_type": "stream",
     "text": [
      "Files already downloaded and verified\n"
     ]
    }
   ],
   "source": [
    "train_data = torchvision.datasets.CIFAR10(root = '../datasets/', train=True,\n",
    "                                        transform=torchvision.transforms.ToTensor(),\n",
    "                                        download=True)\n",
    "test_data = torchvision.datasets.CIFAR10(root = '../datasets/', train=False,\n",
    "                                        transform=torchvision.transforms.ToTensor())\n",
    "\n",
    "train_loader = torch.utils.data.DataLoader(dataset=train_data, batch_size=16,\n",
    "                                          shuffle=True)\n",
    "test_loader = torch.utils.data.DataLoader(dataset=test_data, batch_size=16,\n",
    "                                          shuffle=False)"
   ]
  },
  {
   "cell_type": "code",
   "execution_count": 7,
   "metadata": {},
   "outputs": [],
   "source": [
    "class Siamese(nn.Module):\n",
    "    def __init__(self):\n",
    "        super(Siamese, self).__init__()\n",
    "        self.cnn1 = nn.Sequential(\n",
    "                    nn.Conv2d(1, 96, kernel_size=11, stride=1),\n",
    "                    nn.ReLU(inplace=True),\n",
    "                    nn.LocalResponseNorm(5, alpha=0.0001,beta=0.75,k=2),\n",
    "                    nn.MaxPool2d(3, stride=2),\n",
    "            \n",
    "                    nn.Conv2d(96, 256, kernel_size=5,stride=1,padding=2),\n",
    "                    nn.ReLU(inplace=True),\n",
    "                    nn.LocalResponseNorm(5,alpha=0.0001,beta=0.75,k=2),\n",
    "                    nn.MaxPool2d(3, stride=2),\n",
    "                    nn.Dropout2d(p=0.3),\n",
    "\n",
    "                    nn.Conv2d(256,384 , kernel_size=3,stride=1,padding=1),\n",
    "                    nn.ReLU(inplace=True),\n",
    "                    nn.Conv2d(384,256 , kernel_size=3,stride=1,padding=1),\n",
    "                    nn.ReLU(inplace=True),\n",
    "                    nn.MaxPool2d(3, stride=2),\n",
    "                    nn.Dropout2d(p=0.3)\n",
    "                    )\n",
    "\n",
    "        self.fc1 =  nn.Sequential(\n",
    "                    nn.Linear(30976, 1024),\n",
    "                    nn.ReLU(inplace=True),\n",
    "                    nn.Dropout2d(p=0.5),\n",
    "                    # Second Dense Layer\n",
    "                    nn.Linear(1024, 128),\n",
    "                    nn.ReLU(inplace=True),\n",
    "                    nn.Linear(128,2)\n",
    "        \n",
    "                    ) \n",
    "        \n",
    "    def forward_ind(self, x):\n",
    "        output = self.cnn1(x)\n",
    "        output = output.view(output.size()[0], -1)\n",
    "        output = self.fc1(output)\n",
    "        return output\n",
    "    \n",
    "    def forward(self, x1, x2):\n",
    "        # forward pass for input 1\n",
    "        out1 = self.forward_ind(x1)\n",
    "        # forward pass for input 2\n",
    "        out2 = self.forward_ind(x2)\n",
    "        return out1, out2\n"
   ]
  },
  {
   "cell_type": "code",
   "execution_count": null,
   "metadata": {},
   "outputs": [],
   "source": [
    "class ContrastiveLoss(torch.nn.Module):\n",
    "\n",
    "      def __init__(self, margin=2.0):\n",
    "            super(ContrastiveLoss, self).__init__()\n",
    "            self.margin = margin\n",
    "\n",
    "      def forward(self, output1, output2, label):\n",
    "            # Find the pairwise distance or eucledian distance of two output feature vectors\n",
    "            euclidean_distance = F.pairwise_distance(output1, output2)\n",
    "            # perform contrastive loss calculation with the distance\n",
    "            loss_contrastive = torch.mean((1-label) * torch.pow(euclidean_distance, 2) +\n",
    "            (label) * torch.pow(torch.clamp(self.margin - euclidean_distance, min=0.0), 2))\n",
    "\n",
    "            return loss_contrastive"
   ]
  }
 ],
 "metadata": {
  "kernelspec": {
   "display_name": "Python 3",
   "language": "python",
   "name": "python3"
  },
  "language_info": {
   "codemirror_mode": {
    "name": "ipython",
    "version": 3
   },
   "file_extension": ".py",
   "mimetype": "text/x-python",
   "name": "python",
   "nbconvert_exporter": "python",
   "pygments_lexer": "ipython3",
   "version": "3.5.6"
  }
 },
 "nbformat": 4,
 "nbformat_minor": 2
}
